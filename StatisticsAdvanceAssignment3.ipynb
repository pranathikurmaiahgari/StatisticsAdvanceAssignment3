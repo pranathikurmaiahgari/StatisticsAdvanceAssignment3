{
 "cells": [
  {
   "cell_type": "markdown",
   "id": "7f0e1b4e-e744-4600-9d38-ce7a3ec71b48",
   "metadata": {},
   "source": [
    "Q1: What is Estimation Statistics? Explain point estimate and interval estimate."
   ]
  },
  {
   "cell_type": "markdown",
   "id": "a3c7abfa-ac32-4cea-8f4a-44948c876d0a",
   "metadata": {},
   "source": [
    "**Estimation statistics** is a branch of statistics that deals with the process of estimating population parameters based on sample data. In other words, it involves making educated guesses or predictions about characteristics of a population when you only have information from a subset of that population, which is the sample.\n",
    "\n",
    "There are two main types of estimation in statistics: **point estimation** and **interval estimation**:\n",
    "\n",
    "1. **Point Estimation:**\n",
    "   - **Definition:** Point estimation involves estimating a population parameter using a single value or point, typically the sample statistic, such as the sample mean or sample proportion.\n",
    "   - **Example:** Suppose you want to estimate the average income of all households in a city. You collect data from a random sample of 100 households and calculate the sample mean income, which is $60,000. Using point estimation, you would estimate the population mean income as $60,000.\n",
    "\n",
    "   Point estimation provides a single, specific value as an estimate for the population parameter. However, it doesn't provide any information about the uncertainty or variability associated with the estimate.\n",
    "\n",
    "2. **Interval Estimation:**\n",
    "   - **Definition:** Interval estimation, also known as confidence interval estimation, provides a range of values (an interval) that is likely to contain the true population parameter with a specified level of confidence. It accounts for the uncertainty associated with estimating the parameter.\n",
    "   - **Example:** Using the same household income data, you calculate a 95% confidence interval for the population mean income. This interval might be [$57,000, $63,000]. This means that you are 95% confident that the true population mean income falls within this interval.\n",
    "\n",
    "   Interval estimation not only gives you a point estimate but also quantifies the uncertainty by providing a range of possible values. The confidence level (e.g., 95%) indicates the probability that the true parameter falls within the interval.\n",
    "\n",
    "**Key Points:**\n",
    "- Point estimation provides a single estimate for a population parameter.\n",
    "- Interval estimation provides a range of values, along with a confidence level that quantifies the uncertainty associated with the estimate.\n",
    "- Interval estimation is often preferred because it provides a more complete picture of the estimation process and accounts for sampling variability.\n",
    "\n",
    "In summary, estimation statistics is a critical aspect of data analysis that allows us to make informed inferences about population parameters based on sample data. Point estimation gives a specific estimate, while interval estimation provides a range of values that incorporates uncertainty, making it a more comprehensive approach to estimation."
   ]
  },
  {
   "cell_type": "markdown",
   "id": "a1ce8f18-ee3d-4652-a335-30cd0362745b",
   "metadata": {},
   "source": [
    "Q2. Write a Python function to estimate the population mean using a sample mean and standard\n",
    "deviation."
   ]
  },
  {
   "cell_type": "code",
   "execution_count": 1,
   "id": "69ade901-3cdb-44f4-aaf7-6a362a15345d",
   "metadata": {},
   "outputs": [
    {
     "name": "stdout",
     "output_type": "stream",
     "text": [
      "Estimated Population Mean: 60\n",
      "95% Confidence Interval: (58.04, 61.96)\n"
     ]
    }
   ],
   "source": [
    "import math\n",
    "\n",
    "def estimate_population_mean(sample_mean, sample_stddev, sample_size):\n",
    "    # Calculate the standard error (standard deviation of the sample mean)\n",
    "    standard_error = sample_stddev / math.sqrt(sample_size)\n",
    "    \n",
    "    # Calculate the margin of error (usually used for confidence intervals)\n",
    "    margin_of_error = 1.96 * standard_error  # Assuming a 95% confidence level\n",
    "    \n",
    "    # Calculate the lower and upper bounds of the confidence interval\n",
    "    lower_bound = sample_mean - margin_of_error\n",
    "    upper_bound = sample_mean + margin_of_error\n",
    "    \n",
    "    # Return the estimated population mean and the confidence interval\n",
    "    return sample_mean, lower_bound, upper_bound\n",
    "\n",
    "# Example usage:\n",
    "sample_mean = 60  # Sample mean\n",
    "sample_stddev = 10  # Sample standard deviation\n",
    "sample_size = 100  # Sample size\n",
    "\n",
    "population_mean, lower_bound, upper_bound = estimate_population_mean(sample_mean, sample_stddev, sample_size)\n",
    "\n",
    "print(f\"Estimated Population Mean: {population_mean}\")\n",
    "print(f\"95% Confidence Interval: ({lower_bound}, {upper_bound})\")\n"
   ]
  },
  {
   "cell_type": "markdown",
   "id": "4fa0682c-6277-4639-b3e9-6c0018b7bf4f",
   "metadata": {},
   "source": [
    "Q3: What is Hypothesis testing? Why is it used? State the importance of Hypothesis testing."
   ]
  },
  {
   "cell_type": "markdown",
   "id": "da954c98-1a66-4e65-af09-a1e3bf495c7d",
   "metadata": {},
   "source": [
    "**Hypothesis testing** is a fundamental statistical method used to make inferences about populations based on sample data. It involves the formulation of two competing hypotheses, the null hypothesis (H0) and the alternative hypothesis (Ha), and the statistical analysis of the sample data to determine whether there is enough evidence to reject the null hypothesis in favor of the alternative hypothesis.\n",
    "\n",
    "Here's how hypothesis testing works:\n",
    "\n",
    "1. **Formulate Hypotheses:**\n",
    "   - **Null Hypothesis (H0):** This is the default or status quo hypothesis. It often represents a statement of no effect or no difference. It is what you want to test or challenge.\n",
    "   - **Alternative Hypothesis (Ha):** This is the hypothesis that represents the opposite of the null hypothesis. It is what you hope to demonstrate or support with your data.\n",
    "\n",
    "2. **Collect Data:**\n",
    "   - Collect a sample of data from the population of interest.\n",
    "\n",
    "3. **Perform Statistical Analysis:**\n",
    "   - Use statistical tests and methods to analyze the sample data and calculate a test statistic.\n",
    "\n",
    "4. **Determine Significance Level (Alpha):**\n",
    "   - Choose a significance level (α), typically set at 0.05 (5%) or 0.01 (1%). This represents the threshold for considering the results statistically significant.\n",
    "\n",
    "5. **Compare Test Statistic to Critical Value or P-Value:**\n",
    "   - If using a critical value approach, compare the test statistic to a critical value from a distribution (e.g., Z-table, t-table) to determine whether it falls in the rejection region.\n",
    "   - If using a p-value approach, calculate the p-value, which represents the probability of obtaining a test statistic as extreme or more extreme than the observed value, assuming the null hypothesis is true. If the p-value is less than or equal to α, you reject the null hypothesis.\n",
    "\n",
    "6. **Make a Decision:**\n",
    "   - If the test statistic falls in the rejection region (or if the p-value is less than α), you reject the null hypothesis.\n",
    "   - If the test statistic does not fall in the rejection region (or if the p-value is greater than α), you fail to reject the null hypothesis.\n",
    "\n",
    "**Importance of Hypothesis Testing:**\n",
    "\n",
    "Hypothesis testing is a fundamental tool in statistics and data analysis with several important roles and applications:\n",
    "\n",
    "1. **Scientific Inquiry:** Hypothesis testing is used in scientific research to assess whether new findings or observations are statistically significant and can be considered evidence for a particular hypothesis or theory.\n",
    "\n",
    "2. **Decision-Making:** It provides a systematic and objective framework for making decisions based on data. For example, it helps businesses make informed decisions about product improvements or marketing strategies.\n",
    "\n",
    "3. **Quality Control:** In manufacturing and quality control, hypothesis testing is used to monitor and improve product quality by identifying defects or process improvements.\n",
    "\n",
    "4. **Medical Research:** Hypothesis testing is used in medical research to evaluate the effectiveness of new treatments and drugs.\n",
    "\n",
    "5. **Legal and Policy Decisions:** It is used in legal cases and policy decisions to assess whether there is sufficient evidence to support a claim or policy change.\n",
    "\n",
    "6. **Education:** In education, hypothesis testing is used to assess the effectiveness of teaching methods and educational interventions.\n",
    "\n",
    "7. **Statistical Inference:** Hypothesis testing is a key component of statistical inference, allowing researchers to draw conclusions about populations based on sample data.\n",
    "\n",
    "8. **Scientific Progress:** It is essential for advancing scientific knowledge by challenging existing hypotheses and theories and generating new insights.\n",
    "\n",
    "In summary, hypothesis testing is a powerful and widely used method for making decisions and drawing conclusions based on data. It plays a critical role in scientific research, business decision-making, quality control, and many other fields, contributing to evidence-based decision-making and the advancement of knowledge."
   ]
  },
  {
   "cell_type": "markdown",
   "id": "ff76f4d9-bb77-4a7c-861d-ca4ffc1cd059",
   "metadata": {},
   "source": [
    "Q4. Create a hypothesis that states whether the average weight of male college students is greater than\n",
    "the average weight of female college students."
   ]
  },
  {
   "cell_type": "markdown",
   "id": "d4254ed9-3d43-49a7-bd38-3400a26eedac",
   "metadata": {},
   "source": [
    "Hypothesis testing typically involves formulating a null hypothesis (H0) and an alternative hypothesis (Ha) that represent competing claims or statements about a population parameter. In this case, you want to test whether the average weight of male college students is greater than the average weight of female college students.\n",
    "\n",
    "Here are the null and alternative hypotheses for this scenario:\n",
    "\n",
    "**Null Hypothesis (H0):**\n",
    "The null hypothesis states that there is no significant difference in the average weight of male college students and female college students. Mathematically, it can be expressed as:\n",
    "\n",
    "H0: μ_male = μ_female\n",
    "\n",
    "Where:\n",
    "- μ_male represents the population mean weight of male college students.\n",
    "- μ_female represents the population mean weight of female college students.\n",
    "\n",
    "**Alternative Hypothesis (Ha):**\n",
    "The alternative hypothesis states that the average weight of male college students is greater than the average weight of female college students. Mathematically, it can be expressed as:\n",
    "\n",
    "Ha: μ_male > μ_female\n",
    "\n",
    "In this alternative hypothesis:\n",
    "- μ_male represents the population mean weight of male college students.\n",
    "- μ_female represents the population mean weight of female college students.\n",
    "\n",
    "You would conduct a hypothesis test using sample data to determine whether there is enough evidence to reject the null hypothesis in favor of the alternative hypothesis, which would suggest that male college students, on average, weigh more than female college students. The specific test and analysis would depend on the data you collect and the statistical method you choose to use."
   ]
  },
  {
   "cell_type": "markdown",
   "id": "09292272-035b-452f-b62d-51d21a5da896",
   "metadata": {},
   "source": [
    "Q5. Write a Python script to conduct a hypothesis test on the difference between two population means,\n",
    "given a sample from each population."
   ]
  },
  {
   "cell_type": "code",
   "execution_count": 2,
   "id": "dc6d0d38-7a98-4f19-ba8e-01cabd691558",
   "metadata": {},
   "outputs": [
    {
     "name": "stdout",
     "output_type": "stream",
     "text": [
      "T-Statistic: 4.718380879445552\n",
      "P-Value: 1.6217168509571637e-05\n",
      "Reject the null hypothesis\n"
     ]
    }
   ],
   "source": [
    "import numpy as np\n",
    "from scipy import stats\n",
    "\n",
    "# Generate two random samples (replace with your own data)\n",
    "np.random.seed(0)  # For reproducibility\n",
    "sample1 = np.random.normal(loc=70, scale=10, size=30)  # Sample 1 from population 1\n",
    "sample2 = np.random.normal(loc=65, scale=10, size=30)  # Sample 2 from population 2\n",
    "\n",
    "# Define the significance level (alpha)\n",
    "alpha = 0.05\n",
    "\n",
    "# Perform an independent two-sample t-test\n",
    "t_statistic, p_value = stats.ttest_ind(sample1, sample2, equal_var=False)\n",
    "\n",
    "# Print the results\n",
    "print(f\"T-Statistic: {t_statistic}\")\n",
    "print(f\"P-Value: {p_value}\")\n",
    "\n",
    "# Compare p-value to alpha and make a decision\n",
    "if p_value < alpha:\n",
    "    print(\"Reject the null hypothesis\")\n",
    "else:\n",
    "    print(\"Fail to reject the null hypothesis\")\n"
   ]
  },
  {
   "cell_type": "markdown",
   "id": "46b52a37-c263-4d55-b192-e8af8a4e16d7",
   "metadata": {},
   "source": [
    "Q6: What is a null and alternative hypothesis? Give some examples."
   ]
  },
  {
   "cell_type": "markdown",
   "id": "0415c25e-5d56-4d2a-a770-29f13982c38e",
   "metadata": {},
   "source": [
    "In hypothesis testing, the null hypothesis (H0) and the alternative hypothesis (Ha) are two competing statements or claims about a population parameter that you want to test using sample data. These hypotheses serve as the foundation for statistical hypothesis tests and help you draw conclusions about the population based on the sample data. Here's an explanation of each and some examples:\n",
    "\n",
    "**Null Hypothesis (H0):**\n",
    "- The null hypothesis represents the default or status quo assumption about the population parameter.\n",
    "- It often states that there is no significant effect, no difference, or no relationship.\n",
    "- Researchers aim to test or challenge the null hypothesis.\n",
    "- In mathematical notation, the null hypothesis is typically denoted as H0.\n",
    "\n",
    "**Examples of Null Hypotheses:**\n",
    "1. The average height of male adults in a city is equal to 175 cm (H0: μ = 175 cm).\n",
    "2. There is no difference in test scores between two teaching methods (H0: μ1 = μ2, where μ1 and μ2 are the population means for each method).\n",
    "3. The new drug has no effect on blood pressure (H0: Δμ = 0, where Δμ represents the change in mean blood pressure).\n",
    "\n",
    "**Alternative Hypothesis (Ha):**\n",
    "- The alternative hypothesis represents a statement that opposes or contradicts the null hypothesis.\n",
    "- It often states that there is a significant effect, a difference, or a relationship.\n",
    "- Researchers hope to provide evidence in favor of the alternative hypothesis.\n",
    "- In mathematical notation, the alternative hypothesis is typically denoted as Ha.\n",
    "\n",
    "**Examples of Alternative Hypotheses:**\n",
    "1. The average height of male adults in a city is greater than 175 cm (Ha: μ > 175 cm).\n",
    "2. There is a difference in test scores between two teaching methods (Ha: μ1 ≠ μ2 or μ1 > μ2 or μ1 < μ2, depending on the research question).\n",
    "3. The new drug decreases blood pressure (Ha: Δμ < 0).\n",
    "\n",
    "In hypothesis testing, you collect sample data and perform statistical analysis to determine whether there is enough evidence to reject the null hypothesis in favor of the alternative hypothesis. The specific form of the alternative hypothesis (e.g., one-tailed or two-tailed) depends on the research question and the direction of the effect you are investigating.\n",
    "\n",
    "The ultimate goal of hypothesis testing is to make informed decisions or draw conclusions based on data and statistical evidence, while acknowledging the uncertainty associated with those conclusions."
   ]
  },
  {
   "cell_type": "markdown",
   "id": "59bb818c-f176-476a-8fc3-920379549304",
   "metadata": {},
   "source": [
    "Q7: Write down the steps involved in hypothesis testing."
   ]
  },
  {
   "cell_type": "markdown",
   "id": "f7400a66-1aa2-48d1-92a1-b38bce2929b4",
   "metadata": {},
   "source": [
    "Hypothesis testing is a systematic process used in statistics to make decisions or draw conclusions about population parameters based on sample data. The following are the steps involved in hypothesis testing:\n",
    "\n",
    "1. **Formulate Hypotheses:**\n",
    "   - **Null Hypothesis (H0):** Start by defining the null hypothesis, which represents the default or status quo assumption. It often states that there is no effect, no difference, or no relationship.\n",
    "   - **Alternative Hypothesis (Ha):** Formulate the alternative hypothesis, which represents the claim you want to test or support. It often states that there is a significant effect, a difference, or a relationship.\n",
    "\n",
    "2. **Select Significance Level (Alpha):**\n",
    "   - Choose a significance level (α), also known as the Type I error rate. Common values include 0.05 (5%) or 0.01 (1%). This represents the threshold for considering the results statistically significant.\n",
    "\n",
    "3. **Collect Data:**\n",
    "   - Gather sample data relevant to your hypothesis test. Ensure that the data is collected through appropriate sampling methods.\n",
    "\n",
    "4. **Choose a Statistical Test:**\n",
    "   - Select an appropriate statistical test based on the nature of your data, the research question, and the hypotheses being tested. Common tests include t-tests, chi-squared tests, ANOVA, regression analysis, etc.\n",
    "\n",
    "5. **Calculate Test Statistic:**\n",
    "   - Perform the chosen statistical test on the sample data to calculate a test statistic (e.g., t-statistic, chi-squared statistic, F-statistic, etc.).\n",
    "\n",
    "6. **Determine the Critical Region or P-Value:**\n",
    "   - Depending on your chosen approach (critical value or p-value), determine the critical region or calculate the p-value associated with your test statistic. This step helps you determine if your test statistic is statistically significant.\n",
    "\n",
    "7. **Compare Test Statistic to Critical Value or P-Value:**\n",
    "   - If using a critical value approach, compare your test statistic to the critical value(s) from the appropriate distribution (e.g., t-table, chi-squared table) to decide whether to reject the null hypothesis.\n",
    "   - If using a p-value approach, calculate the p-value and compare it to the chosen significance level (α). If the p-value is less than or equal to α, you reject the null hypothesis.\n",
    "\n",
    "8. **Make a Decision:**\n",
    "   - Based on the comparison in the previous step:\n",
    "     - If the test statistic falls in the critical region (or the p-value is ≤ α), reject the null hypothesis in favor of the alternative hypothesis.\n",
    "     - If the test statistic does not fall in the critical region (or the p-value is > α), fail to reject the null hypothesis.\n",
    "\n",
    "9. **Draw Conclusions:**\n",
    "   - Interpret the results of your hypothesis test in the context of your research question and the hypotheses. State whether you have enough evidence to support the alternative hypothesis or if you cannot reject the null hypothesis.\n",
    "\n",
    "10. **Report Findings:**\n",
    "    - Clearly communicate your findings, including the decision regarding the null hypothesis, the test statistic, the p-value (if applicable), and any confidence intervals, effect sizes, or practical significance.\n",
    "\n",
    "11. **Consider Limitations and Assumptions:**\n",
    "    - Reflect on any limitations of the analysis, including assumptions made during the testing process. Be transparent about the uncertainty associated with the conclusions.\n",
    "\n",
    "12. **Repeat or Refine:**\n",
    "    - Depending on the results and the research objectives, you may need to repeat the hypothesis test with additional data or refine the research question and hypotheses.\n",
    "\n",
    "Hypothesis testing is a critical component of statistical analysis, helping researchers make evidence-based decisions and draw valid conclusions from data. Following these steps ensures a structured and rigorous approach to hypothesis testing."
   ]
  },
  {
   "cell_type": "markdown",
   "id": "bf6d6617-cea5-47ca-b8e3-da1c7c08e5a0",
   "metadata": {},
   "source": [
    "Q8. Define p-value and explain its significance in hypothesis testing."
   ]
  },
  {
   "cell_type": "markdown",
   "id": "a1693809-d090-47a4-a26b-cd54cc61caf6",
   "metadata": {},
   "source": [
    "The **p-value**, short for \"probability value,\" is a crucial concept in hypothesis testing. It quantifies the strength of the evidence against the null hypothesis (H0) and helps determine whether to reject or fail to reject the null hypothesis. Here's a formal definition of the p-value and an explanation of its significance in hypothesis testing:\n",
    "\n",
    "**Definition of p-value:**\n",
    "The p-value is the probability of obtaining a test statistic as extreme as, or more extreme than, the one calculated from the sample data, assuming that the null hypothesis (H0) is true.\n",
    "\n",
    "**Significance of the p-value in Hypothesis Testing:**\n",
    "The p-value plays a central role in hypothesis testing for several reasons:\n",
    "\n",
    "1. **Decision Criterion:** The p-value provides a decision criterion for hypothesis testing. Specifically, if the p-value is less than or equal to the chosen significance level (α), you reject the null hypothesis (H0). If the p-value is greater than α, you fail to reject the null hypothesis.\n",
    "\n",
    "2. **Quantification of Evidence:** The p-value quantifies the strength of the evidence against the null hypothesis. A smaller p-value indicates stronger evidence against H0. For example, a p-value of 0.01 is stronger evidence against H0 than a p-value of 0.05.\n",
    "\n",
    "3. **Subjectivity:** The p-value offers an objective and standardized way to make decisions in hypothesis testing. It allows researchers to set a predetermined significance level (α) and adhere to it, reducing subjectivity in decision-making.\n",
    "\n",
    "4. **Flexibility:** The p-value accommodates a wide range of hypothesis tests and research questions. It can be used in one-tailed tests (testing for an effect in one direction) and two-tailed tests (testing for an effect in either direction).\n",
    "\n",
    "5. **Interpretability:** The p-value is easy to interpret. If the p-value is small (typically ≤ α), it suggests that the sample data provide strong evidence against the null hypothesis. If the p-value is large, it indicates weak evidence against the null hypothesis.\n",
    "\n",
    "6. **Communication:** The p-value allows researchers to communicate the statistical significance of their findings to others, including colleagues, stakeholders, and the broader scientific community.\n",
    "\n",
    "It's important to note that the p-value alone does not tell you the probability that the null hypothesis is true or false. Instead, it quantifies the probability of obtaining the observed test statistic (or a more extreme value) under the assumption that the null hypothesis is true. A small p-value suggests that the observed data are unlikely to occur if the null hypothesis were true, leading to the rejection of H0.\n",
    "\n",
    "Researchers typically choose a significance level (α), such as 0.05, to define the threshold for statistical significance. If the p-value is less than or equal to α, it indicates that the observed data provide sufficient evidence to reject the null hypothesis in favor of the alternative hypothesis. Conversely, if the p-value is greater than α, it suggests that the data do not provide strong enough evidence to reject the null hypothesis."
   ]
  },
  {
   "cell_type": "markdown",
   "id": "d908abf3-9653-4fc9-a5fb-9a1191ad7b50",
   "metadata": {},
   "source": [
    "Q9. Generate a Student's t-distribution plot using Python's matplotlib library, with the degrees of freedom\n",
    "parameter set to 10."
   ]
  },
  {
   "cell_type": "code",
   "execution_count": 5,
   "id": "24c862e2-0ead-4cd5-bd91-ad1d1d20231b",
   "metadata": {},
   "outputs": [
    {
     "data": {
      "image/png": "[encoded data removed]",
      "text/plain": [
       "<Figure size 640x480 with 1 Axes>"
      ]
     },
     "metadata": {},
     "output_type": "display_data"
    }
   ],
   "source": [
    "import numpy as np\n",
    "import matplotlib.pyplot as plt\n",
    "from scipy.stats import t\n",
    "\n",
    "# Degrees of freedom\n",
    "df = 10\n",
    "\n",
    "# Generate x values\n",
    "x = np.linspace(-4, 4, 1000)\n",
    "\n",
    "# Calculate the probability density function (PDF) for the t-distribution\n",
    "pdf = t.pdf(x, df)\n",
    "\n",
    "# Create a Matplotlib figure and axis\n",
    "fig, ax = plt.subplots()\n",
    "\n",
    "# Plot the t-distribution PDF\n",
    "ax.plot(x, pdf, label=f't-distribution (df={df})', color='blue')\n",
    "\n",
    "# Add labels and a legend\n",
    "ax.set_xlabel('x')\n",
    "ax.set_ylabel('Probability Density')\n",
    "ax.set_title(f'Student\\'s t-Distribution (df={df})')\n",
    "ax.legend()\n",
    "\n",
    "# Display the plot\n",
    "plt.show()\n"
   ]
  },
  {
   "cell_type": "markdown",
   "id": "c9312a3a-2a81-4f27-b949-41b6e2a71982",
   "metadata": {},
   "source": [
    "Q10. Write a Python program to calculate the two-sample t-test for independent samples, given two\n",
    "random samples of equal size and a null hypothesis that the population means are equal."
   ]
  },
  {
   "cell_type": "code",
   "execution_count": 6,
   "id": "7a8e3010-d591-47ee-8d75-e555c089a778",
   "metadata": {},
   "outputs": [
    {
     "name": "stdout",
     "output_type": "stream",
     "text": [
      "T-Statistic: 2.8040414000980345\n",
      "P-Value: 0.006854000433095008\n",
      "Reject the null hypothesis\n"
     ]
    }
   ],
   "source": [
    "import numpy as np\n",
    "from scipy import stats\n",
    "\n",
    "# Generate two random samples (replace with your own data)\n",
    "np.random.seed(0)  # For reproducibility\n",
    "sample1 = np.random.normal(loc=70, scale=10, size=30)  # Sample 1 from population 1\n",
    "sample2 = np.random.normal(loc=70, scale=10, size=30)  # Sample 2 from population 2\n",
    "\n",
    "# Perform the two-sample t-test\n",
    "t_statistic, p_value = stats.ttest_ind(sample1, sample2, equal_var=True)\n",
    "\n",
    "# Define the significance level (alpha)\n",
    "alpha = 0.05\n",
    "\n",
    "# Print the results\n",
    "print(f\"T-Statistic: {t_statistic}\")\n",
    "print(f\"P-Value: {p_value}\")\n",
    "\n",
    "# Compare p-value to alpha and make a decision\n",
    "if p_value < alpha:\n",
    "    print(\"Reject the null hypothesis\")\n",
    "else:\n",
    "    print(\"Fail to reject the null hypothesis\")\n"
   ]
  },
  {
   "cell_type": "markdown",
   "id": "3260ab04-25b0-46bd-8cba-a0e83453a9dd",
   "metadata": {},
   "source": [
    "Q11: What is Student’s t distribution? When to use the t-Distribution."
   ]
  },
  {
   "cell_type": "markdown",
   "id": "d5625711-5a33-44a0-afe0-c95fb3dbd0cc",
   "metadata": {},
   "source": [
    "**Student's t-distribution**, often simply referred to as the t-distribution, is a probability distribution that is similar in shape to the normal distribution (bell-shaped curve) but has heavier tails. It is used in statistical inference for making inferences about population parameters, particularly when dealing with small sample sizes or when the population standard deviation is unknown.\n",
    "\n",
    "Here are key characteristics of the t-distribution and situations in which it is commonly used:\n",
    "\n",
    "**Characteristics of the t-Distribution:**\n",
    "1. **Shape:** The t-distribution has a bell-shaped curve that is symmetric and centered at zero, similar to the standard normal distribution. However, its tails are thicker, meaning it has more variability in the tails compared to the normal distribution.\n",
    "\n",
    "2. **Parameter:** The t-distribution is parameterized by the degrees of freedom (df), which affect its shape. As the degrees of freedom increase, the t-distribution approaches the standard normal distribution.\n",
    "\n",
    "3. **Variability:** The variability of the t-distribution increases with decreasing degrees of freedom. This means that with fewer degrees of freedom, the distribution has fatter tails and more spread out than when there are more degrees of freedom.\n",
    "\n",
    "**When to Use the t-Distribution:**\n",
    "The t-distribution is used in the following situations:\n",
    "\n",
    "1. **Small Sample Sizes:** When dealing with small sample sizes (typically less than 30), the t-distribution is used to make inferences about the population mean. In such cases, the standard normal distribution (z-distribution) may not be appropriate due to the central limit theorem not yet applying. The t-distribution accounts for the increased uncertainty associated with small samples.\n",
    "\n",
    "2. **Unknown Population Standard Deviation:** When the population standard deviation is unknown, the t-distribution is used to estimate the population mean. In practice, the population standard deviation is often unknown and replaced with the sample standard deviation.\n",
    "\n",
    "3. **Hypothesis Testing:** In hypothesis testing, the t-distribution is used to perform t-tests. Common examples include the one-sample t-test, two-sample t-test for independent samples, and paired t-test for dependent samples. These tests are used to compare sample means to make inferences about population means.\n",
    "\n",
    "4. **Confidence Intervals:** The t-distribution is used to construct confidence intervals when estimating population parameters, such as the population mean.\n",
    "\n",
    "5. **Regression Analysis:** In linear regression analysis, the t-distribution is used for testing the significance of regression coefficients.\n",
    "\n",
    "In summary, the t-distribution is a valuable tool in statistics when dealing with small samples or when the population standard deviation is unknown. It provides a more accurate representation of the sampling distribution of the sample mean in such situations and is commonly used for hypothesis testing and constructing confidence intervals. The choice between the t-distribution and the standard normal distribution depends on the sample size and the nature of the problem being analyzed."
   ]
  },
  {
   "cell_type": "markdown",
   "id": "149570e7-e374-425e-82fd-6475441dda05",
   "metadata": {},
   "source": [
    "Q12: What is t-statistic? State the formula for t-statistic."
   ]
  },
  {
   "cell_type": "markdown",
   "id": "69af4668-568d-433c-b3d5-0eadf72ae178",
   "metadata": {},
   "source": [
    "The **t-statistic** (also known as the t-value or t-score) is a measure of how many standard errors a sample statistic is away from the expected population parameter under the null hypothesis. It is used in hypothesis testing, specifically in situations where you are comparing sample data to population parameters or when comparing two sample means. The t-statistic is calculated using the following formula:\n",
    "\n",
    "**Formula for the t-Statistic (One-Sample):**\n",
    "\\[ t = \\frac{{\\bar{X} - \\mu}}{{s / \\sqrt{n}}} \\]\n",
    "\n",
    "Where:\n",
    "- \\( t \\) is the t-statistic.\n",
    "- \\( \\bar{X} \\) is the sample mean.\n",
    "- \\( \\mu \\) is the population mean (under the null hypothesis).\n",
    "- \\( s \\) is the sample standard deviation.\n",
    "- \\( n \\) is the sample size.\n",
    "\n",
    "In this formula, the t-statistic represents the number of standard errors by which the sample mean (\\( \\bar{X} \\)) differs from the population mean (\\( \\mu \\)), with the denominator (\\( s / \\sqrt{n} \\)) representing the standard error of the sample mean.\n",
    "\n",
    "**Formula for the t-Statistic (Two-Sample, Independent Samples):**\n",
    "\\[ t = \\frac{{\\bar{X}_1 - \\bar{X}_2}}{{\\sqrt{\\frac{{s_1^2}}{{n_1}} + \\frac{{s_2^2}}{{n_2}}}}} \\]\n",
    "\n",
    "Where:\n",
    "- \\( t \\) is the t-statistic for independent samples.\n",
    "- \\( \\bar{X}_1 \\) is the mean of the first sample.\n",
    "- \\( \\bar{X}_2 \\) is the mean of the second sample.\n",
    "- \\( s_1 \\) is the standard deviation of the first sample.\n",
    "- \\( s_2 \\) is the standard deviation of the second sample.\n",
    "- \\( n_1 \\) is the sample size of the first sample.\n",
    "- \\( n_2 \\) is the sample size of the second sample.\n",
    "\n",
    "In the two-sample t-test, the t-statistic measures the difference in means between two independent samples, accounting for the variability within each sample.\n",
    "\n",
    "The t-statistic is then used to calculate the p-value or to compare to a critical value from the t-distribution to determine whether the observed difference is statistically significant. If the absolute value of the t-statistic is large, it suggests a significant difference between the sample statistic and the population parameter or between the two sample means."
   ]
  },
  {
   "cell_type": "markdown",
   "id": "e5ffee24-24b3-40ba-8723-20dce0ba29e3",
   "metadata": {},
   "source": [
    "Q13. A coffee shop owner wants to estimate the average daily revenue for their shop. They take a random\n",
    "sample of 50 days and find the sample mean revenue to be $500 with a standard deviation of $50.\n",
    "Estimate the population mean revenue with a 95% confidence interval."
   ]
  },
  {
   "cell_type": "markdown",
   "id": "51bef7c7-4ba5-44b8-99af-4a3a913f2424",
   "metadata": {},
   "source": [
    "To estimate the population mean revenue with a 95% confidence interval, you can use the formula for a confidence interval when the population standard deviation is known:\n",
    "\n",
    "\\[ \\text{Confidence Interval} = \\bar{X} \\pm Z \\frac{\\sigma}{\\sqrt{n}} \\]\n",
    "\n",
    "Where:\n",
    "- \\( \\bar{X} \\) is the sample mean revenue.\n",
    "- \\( Z \\) is the critical value from the standard normal distribution corresponding to the desired confidence level. For a 95% confidence interval, \\( Z \\) is approximately 1.96 (you can find this value from a standard normal distribution table or use a calculator).\n",
    "- \\( \\sigma \\) is the population standard deviation.\n",
    "- \\( n \\) is the sample size.\n",
    "\n",
    "Given the information:\n",
    "- Sample mean (\\( \\bar{X} \\)) = $500\n",
    "- Population standard deviation (\\( \\sigma \\)) = $50\n",
    "- Sample size (\\( n \\)) = 50\n",
    "- Desired confidence level = 95%\n",
    "\n",
    "Now, calculate the confidence interval:\n",
    "\n",
    "\\[ \\text{Confidence Interval} = 500 \\pm 1.96 \\frac{50}{\\sqrt{50}} \\]\n",
    "\n",
    "Let's calculate it step by step:\n",
    "\n",
    "1. Calculate the standard error of the mean (\\( SE \\)):\n",
    "\\[ SE = \\frac{\\sigma}{\\sqrt{n}} = \\frac{50}{\\sqrt{50}} \\approx 7.071 \\]\n",
    "\n",
    "2. Calculate the margin of error (\\( MOE \\)) using the critical value:\n",
    "\\[ MOE = Z \\cdot SE = 1.96 \\cdot 7.071 \\approx 13.87 \\]\n",
    "\n",
    "3. Calculate the lower and upper bounds of the confidence interval:\n",
    "\\[ \\text{Lower bound} = \\bar{X} - MOE = 500 - 13.87 \\approx 486.13 \\]\n",
    "\\[ \\text{Upper bound} = \\bar{X} + MOE = 500 + 13.87 \\approx 513.87 \\]\n",
    "\n",
    "So, the 95% confidence interval for the average daily revenue for the coffee shop is approximately $486.13 to $513.87. This means that we are 95% confident that the true population mean revenue falls within this interval."
   ]
  },
  {
   "cell_type": "markdown",
   "id": "ad858ced-6d96-4400-beaf-6fbf311b6fc7",
   "metadata": {},
   "source": [
    "Q14. A researcher hypothesizes that a new drug will decrease blood pressure by 10 mmHg. They conduct a\n",
    "clinical trial with 100 patients and find that the sample mean decrease in blood pressure is 8 mmHg with a\n",
    "standard deviation of 3 mmHg. Test the hypothesis with a significance level of 0.05."
   ]
  },
  {
   "cell_type": "markdown",
   "id": "e60a3156-1151-42ab-8b7b-22fa2799fe82",
   "metadata": {},
   "source": [
    "To test the researcher's hypothesis that a new drug decreases blood pressure by 10 mmHg with a significance level of 0.05, you can perform a one-sample t-test. The null and alternative hypotheses can be formulated as follows:\n",
    "\n",
    "**Null Hypothesis (H0):** The new drug does not decrease blood pressure by 10 mmHg.\n",
    "- \\( H0: \\mu = 10 \\) (population mean decrease in blood pressure is 10 mmHg)\n",
    "\n",
    "**Alternative Hypothesis (Ha):** The new drug decreases blood pressure by 10 mmHg.\n",
    "- \\( Ha: \\mu < 10 \\) (population mean decrease in blood pressure is less than 10 mmHg)\n",
    "\n",
    "We are testing whether the sample provides enough evidence to reject the null hypothesis in favor of the alternative hypothesis.\n",
    "\n",
    "Now, calculate the test statistic for the one-sample t-test using the formula:\n",
    "\n",
    "\\[ t = \\frac{\\bar{X} - \\mu}{\\frac{s}{\\sqrt{n}}} \\]\n",
    "\n",
    "Where:\n",
    "- \\( \\bar{X} \\) is the sample mean decrease in blood pressure (8 mmHg).\n",
    "- \\( \\mu \\) is the hypothesized population mean decrease in blood pressure (10 mmHg).\n",
    "- \\( s \\) is the sample standard deviation (3 mmHg).\n",
    "- \\( n \\) is the sample size (100).\n",
    "\n",
    "Let's calculate it:\n",
    "\n",
    "\\[ t = \\frac{8 - 10}{\\frac{3}{\\sqrt{100}}} = \\frac{-2}{\\frac{3}{10}} = -20 \\]\n",
    "\n",
    "Now, you can find the critical value for a one-tailed test at a significance level of 0.05. Since we are testing whether the drug decreases blood pressure (i.e., less than 10 mmHg), we look for the critical value in the left tail of the t-distribution.\n",
    "\n",
    "Using a t-table or calculator, you can find that the critical t-value for a one-tailed test at \\( \\alpha = 0.05 \\) and degrees of freedom (\\( df \\)) of 99 (sample size minus 1) is approximately -1.660.\n",
    "\n",
    "Compare the calculated t-statistic (-20) with the critical t-value (-1.660):\n",
    "\n",
    "Since \\( t < -1.660 \\), we reject the null hypothesis.\n",
    "\n",
    "**Conclusion:** There is enough evidence to conclude that the new drug decreases blood pressure by less than 10 mmHg at a significance level of 0.05."
   ]
  },
  {
   "cell_type": "markdown",
   "id": "a555f867-8752-41e7-ad9a-dbe3c4bfbf96",
   "metadata": {},
   "source": [
    "Q15. An electronics company produces a certain type of product with a mean weight of 5 pounds and a\n",
    "standard deviation of 0.5 pounds. A random sample of 25 products is taken, and the sample mean weight\n",
    "is found to be 4.8 pounds. Test the hypothesis that the true mean weight of the products is less than 5\n",
    "pounds with a significance level of 0.01."
   ]
  },
  {
   "cell_type": "markdown",
   "id": "91ad648c-f7ef-4723-9400-df46ebff6f11",
   "metadata": {},
   "source": [
    "To test the hypothesis that the true mean weight of the products is less than 5 pounds with a significance level of 0.01, you can perform a one-sample t-test. Here are the null and alternative hypotheses:\n",
    "\n",
    "**Null Hypothesis (H0):** The true mean weight of the products is 5 pounds.\n",
    "- \\( H0: \\mu = 5 \\)\n",
    "\n",
    "**Alternative Hypothesis (Ha):** The true mean weight of the products is less than 5 pounds.\n",
    "- \\( Ha: \\mu < 5 \\)\n",
    "\n",
    "We are conducting a one-tailed test in the left tail of the distribution because we want to test if the true mean is less than 5 pounds.\n",
    "\n",
    "Now, calculate the test statistic for the one-sample t-test using the formula:\n",
    "\n",
    "\\[ t = \\frac{\\bar{X} - \\mu}{\\frac{s}{\\sqrt{n}}} \\]\n",
    "\n",
    "Where:\n",
    "- \\( \\bar{X} \\) is the sample mean weight (4.8 pounds).\n",
    "- \\( \\mu \\) is the hypothesized population mean weight (5 pounds).\n",
    "- \\( s \\) is the population standard deviation (0.5 pounds).\n",
    "- \\( n \\) is the sample size (25).\n",
    "\n",
    "Let's calculate it:\n",
    "\n",
    "\\[ t = \\frac{4.8 - 5}{\\frac{0.5}{\\sqrt{25}}} = \\frac{-0.2}{0.1} = -2 \\]\n",
    "\n",
    "Now, you can find the critical t-value for a one-tailed test at a significance level of 0.01. Using a t-table or calculator, you can find that the critical t-value for a one-tailed test at \\( \\alpha = 0.01 \\) and degrees of freedom (\\( df \\)) of 24 (sample size minus 1) is approximately -2.492.\n",
    "\n",
    "Compare the calculated t-statistic (-2) with the critical t-value (-2.492):\n",
    "\n",
    "Since \\( t > -2.492 \\), we fail to reject the null hypothesis.\n",
    "\n",
    "**Conclusion:** There is not enough evidence to conclude that the true mean weight of the products is less than 5 pounds at a significance level of 0.01."
   ]
  },
  {
   "cell_type": "markdown",
   "id": "756613b3-55e2-47c7-85e3-cc56048a4919",
   "metadata": {},
   "source": [
    "Q16. Two groups of students are given different study materials to prepare for a test. The first group (n1 =\n",
    "30) has a mean score of 80 with a standard deviation of 10, and the second group (n2 = 40) has a mean\n",
    "score of 75 with a standard deviation of 8. Test the hypothesis that the population means for the two\n",
    "groups are equal with a significance level of 0.01."
   ]
  },
  {
   "cell_type": "markdown",
   "id": "46875c18-0f66-4838-94b3-2f281e036249",
   "metadata": {},
   "source": [
    "To test the hypothesis that the population means for the two groups are equal, you can perform a two-sample t-test for independent samples. Here are the null and alternative hypotheses:\n",
    "\n",
    "**Null Hypothesis (H0):** The population means for the two groups are equal.\n",
    "- \\( H0: \\mu_1 = \\mu_2 \\)\n",
    "\n",
    "**Alternative Hypothesis (Ha):** The population means for the two groups are not equal.\n",
    "- \\( Ha: \\mu_1 \\neq \\mu_2 \\)\n",
    "\n",
    "We are conducting a two-tailed test because we want to test if the population means are different from each other.\n",
    "\n",
    "Now, calculate the test statistic for the two-sample t-test using the formula:\n",
    "\n",
    "\\[ t = \\frac{\\bar{X}_1 - \\bar{X}_2}{\\sqrt{\\frac{s_1^2}{n_1} + \\frac{s_2^2}{n_2}}} \\]\n",
    "\n",
    "Where:\n",
    "- \\( \\bar{X}_1 \\) is the mean score of the first group (80).\n",
    "- \\( \\bar{X}_2 \\) is the mean score of the second group (75).\n",
    "- \\( s_1 \\) is the standard deviation of the first group (10).\n",
    "- \\( s_2 \\) is the standard deviation of the second group (8).\n",
    "- \\( n_1 \\) is the sample size of the first group (30).\n",
    "- \\( n_2 \\) is the sample size of the second group (40).\n",
    "\n",
    "Let's calculate it:\n",
    "\n",
    "\\[ t = \\frac{80 - 75}{\\sqrt{\\frac{10^2}{30} + \\frac{8^2}{40}}} = \\frac{5}{\\sqrt{\\frac{100}{30} + \\frac{64}{40}}} \\]\n",
    "\n",
    "Now, you can find the critical t-values for a two-tailed test at a significance level of 0.01. Since it's a two-tailed test, we need to find the critical values in both tails of the t-distribution. Using a t-table or calculator, you can find that the critical t-values for a two-tailed test at \\( \\alpha = 0.01/2 = 0.005 \\) and degrees of freedom (\\( df \\)) of 68 (calculated using the formula for the degrees of freedom for independent samples) are approximately -2.636 and 2.636.\n",
    "\n",
    "Compare the calculated t-statistic to the critical t-values:\n",
    "\n",
    "Since \\( t \\) falls within the range (-2.636, 2.636), we fail to reject the null hypothesis.\n",
    "\n",
    "**Conclusion:** There is not enough evidence to conclude that the population means for the two groups are different at a significance level of 0.01."
   ]
  },
  {
   "cell_type": "markdown",
   "id": "6647a40f-e477-4ec8-b9d6-dbd2475bee5b",
   "metadata": {},
   "source": [
    "Q17. A marketing company wants to estimate the average number of ads watched by viewers during a TV\n",
    "program. They take a random sample of 50 viewers and find that the sample mean is 4 with a standard\n",
    "deviation of 1.5. Estimate the population mean with a 99% confidence interval."
   ]
  },
  {
   "cell_type": "code",
   "execution_count": null,
   "id": "fafd2068-264e-45a3-b5b8-fd84694e8d51",
   "metadata": {},
   "outputs": [],
   "source": []
  }
 ],
 "metadata": {
  "kernelspec": {
   "display_name": "Python 3 (ipykernel)",
   "language": "python",
   "name": "python3"
  },
  "language_info": {
   "codemirror_mode": {
    "name": "ipython",
    "version": 3
   },
   "file_extension": ".py",
   "mimetype": "text/x-python",
   "name": "python",
   "nbconvert_exporter": "python",
   "pygments_lexer": "ipython3",
   "version": "3.10.8"
  }
 },
 "nbformat": 4,
 "nbformat_minor": 5
}
